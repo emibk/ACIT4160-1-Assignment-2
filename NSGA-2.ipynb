{
 "cells": [
  {
   "cell_type": "code",
   "execution_count": 1,
   "id": "200ab69f-0d82-4ce3-b12b-1a745b51427e",
   "metadata": {},
   "outputs": [],
   "source": [
    "import vrplib"
   ]
  },
  {
   "cell_type": "code",
   "execution_count": 8,
   "id": "69fa1fd5-532c-4546-8ee8-f61a32ff249f",
   "metadata": {},
   "outputs": [],
   "source": [
    "# source: https://vrp.atd-lab.inf.puc-rio.br/index.php/en/\n",
    "\n",
    "\n",
    "instance_a = vrplib.read_instance(\"data/A-n32-k5.vrp\")\n",
    "\n",
    "instance_b = vrplib.read_instance(\"data/B-n78-k10.vrp\")\n",
    "\n",
    "instance_x = vrplib.read_instance(\"data/X-n101-k25.vrp\")"
   ]
  },
  {
   "cell_type": "code",
   "execution_count": null,
   "id": "f0900fbc-3f39-409c-9eb7-e5681ab14db1",
   "metadata": {},
   "outputs": [],
   "source": []
  },
  {
   "cell_type": "code",
   "execution_count": null,
   "id": "54b15f5c-98bc-422b-ac67-475afb241d51",
   "metadata": {},
   "outputs": [],
   "source": []
  }
 ],
 "metadata": {
  "kernelspec": {
   "display_name": "Python 3 (ipykernel)",
   "language": "python",
   "name": "python3"
  },
  "language_info": {
   "codemirror_mode": {
    "name": "ipython",
    "version": 3
   },
   "file_extension": ".py",
   "mimetype": "text/x-python",
   "name": "python",
   "nbconvert_exporter": "python",
   "pygments_lexer": "ipython3",
   "version": "3.12.4"
  }
 },
 "nbformat": 4,
 "nbformat_minor": 5
}
